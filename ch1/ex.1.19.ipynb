{
 "cells": [
  {
   "cell_type": "markdown",
   "metadata": {},
   "source": [
    "$$\n",
    "変換T_{pq}を行列で表すと、 \\\\\n",
    "T_{pq} =  \n",
    "\\begin{pmatrix}\n",
    "(p+q) && q \\\\\n",
    "q &&p\n",
    "\\end{pmatrix}\\\\\n",
    "これを用いて、\\\\\n",
    "\n",
    "\n",
    "\\begin{pmatrix}\n",
    "a \\\\\n",
    "b\n",
    "\\end{pmatrix}\n",
    "\\leftarrow\n",
    "T_{pq} \n",
    "\\begin{pmatrix}\n",
    "a \\\\\n",
    "b\n",
    "\\end{pmatrix} \\\\\n",
    "\n",
    "T_{pq}を二回繰り返すと、\\\\\n",
    "T_{p'q'}=T_{pq}^2=\n",
    "\\begin{pmatrix}\n",
    "(p^2+q^2)+(2pq+q^2) && (2pq+q^2) \\\\\n",
    "(2pq+q^2) && (p^2+q^2)\n",
    "\\end{pmatrix}\\\\\n",
    "したがって、\\\\\n",
    "\\begin{cases}\n",
    "p'=(p^2+q^2)\\\\\n",
    "q'=(2pq+q^2)\n",
    "\\end{cases} \n",
    "$$"
   ]
  },
  {
   "cell_type": "code",
   "execution_count": 4,
   "metadata": {
    "vscode": {
     "languageId": "python"
    }
   },
   "outputs": [],
   "source": [
    "(define (square x) (* x x))\n",
    "(define (fib n)\n",
    "  (fib-iter 1 0 0 1 n))\n",
    "(define (fib-iter a b p q count)\n",
    "  (cond ((= count 0) b)\n",
    "        ((even? count)\n",
    "         (fib-iter a\n",
    "                   b\n",
    "                   (+ (square p) (square q))      ; compute p'\n",
    "                   (+ (* 2 p q) (square q))      ; compute q'\n",
    "                   (/ count 2)))\n",
    "        (else (fib-iter (+ (* b q) (* a q) (* a p))\n",
    "                        (+ (* b p) (* a q))\n",
    "                        p\n",
    "                        q\n",
    "                        (- count 1)))))\n",
    "\n",
    "\n"
   ]
  },
  {
   "cell_type": "code",
   "execution_count": 5,
   "metadata": {
    "vscode": {
     "languageId": "python"
    }
   },
   "outputs": [
    {
     "name": "stdout",
     "output_type": "stream",
     "text": [
      "0\n",
      "1\n",
      "1\n",
      "2\n",
      "3\n",
      "5\n",
      "8\n",
      "13\n",
      "21\n",
      "34\n",
      "55\n",
      "89\n",
      "144\n"
     ]
    }
   ],
   "source": [
    ";確認\n",
    "(display (format \"~a\\n\" (fib 0)))\n",
    "(display (format \"~a\\n\" (fib 1)))\n",
    "(display (format \"~a\\n\" (fib 2)))\n",
    "(display (format \"~a\\n\" (fib 3)))\n",
    "(display (format \"~a\\n\" (fib 4)))\n",
    "(display (format \"~a\\n\" (fib 5)))\n",
    "(display (format \"~a\\n\" (fib 6)))\n",
    "(display (format \"~a\\n\" (fib 7)))\n",
    "(display (format \"~a\\n\" (fib 8)))\n",
    "(display (format \"~a\\n\" (fib 9)))\n",
    "(display (format \"~a\\n\" (fib 10)))\n",
    "(display (format \"~a\\n\" (fib 11)))\n",
    "(display (format \"~a\\n\" (fib 12)))\n"
   ]
  },
  {
   "cell_type": "markdown",
   "metadata": {},
   "source": [
    "$$\n",
    "T = \n",
    "\\begin{pmatrix}\n",
    "p && q \\\\\n",
    "r &&s\n",
    "\\end{pmatrix} \\\\\n",
    "として、\\\\\n",
    "\n",
    "\\begin{pmatrix}\n",
    "a \\\\\n",
    "b\n",
    "\\end{pmatrix}\n",
    "\n",
    "\\leftarrow T \n",
    "\\begin{pmatrix}\n",
    "a \\\\\n",
    "b\n",
    "\\end{pmatrix}\\\\\n",
    "T^2 = \n",
    "\\begin{pmatrix}\n",
    "p^2+qr && pq+qs \\\\\n",
    "rp+sr && rq+s^2\n",
    "\\end{pmatrix} \\\\\n",
    "を利用する。 \\\\\n",
    "問題文の方式では変数が2個だが、こちらは4個なので多少遅い。\\\\\n",
    "とは言え、行列の冪の問題に行き着くので、整数のべきと同じ考えが適用できるのでわかりやすいし、\\\\\n",
    "思いつくのはこちらのほうが容易い\n",
    "$$"
   ]
  },
  {
   "cell_type": "code",
   "execution_count": 6,
   "metadata": {
    "vscode": {
     "languageId": "python"
    }
   },
   "outputs": [],
   "source": [
    ";行列バージョン((p,q),(r,s))の積で考える\n",
    "(define (fib n)\n",
    "  (fib-iter 1 0 1 1 1 0 n))\n",
    "(define (fib-iter a b p q r s count)\n",
    "  (cond ((= count 0) b)\n",
    "        ((even? count)\n",
    "         (fib-iter a\n",
    "                   b\n",
    "                   (+ (* p p) (* q r))      ; compute p\n",
    "                   (+ (* p q) (* q s))      ; compute q\n",
    "                   (+ (* r p) (* s r))      ; compute r\n",
    "                   (+ (* r q) (* s s))      ; compute s\n",
    "                   (/ count 2)))\n",
    "        (else (fib-iter (+ (* p a) (* q b))\n",
    "                        (+ (* r a) (* s b))\n",
    "                        p\n",
    "                        q\n",
    "                        r\n",
    "                        s\n",
    "                        (- count 1)))))\n",
    "\n"
   ]
  },
  {
   "cell_type": "code",
   "execution_count": 7,
   "metadata": {
    "vscode": {
     "languageId": "python"
    }
   },
   "outputs": [
    {
     "name": "stdout",
     "output_type": "stream",
     "text": [
      "0\n",
      "1\n",
      "1\n",
      "2\n",
      "3\n",
      "5\n",
      "8\n",
      "13\n",
      "21\n",
      "34\n",
      "55\n",
      "89\n",
      "144\n"
     ]
    }
   ],
   "source": [
    ";確認\n",
    "(display (format \"~a\\n\" (fib 0)))\n",
    "(display (format \"~a\\n\" (fib 1)))\n",
    "(display (format \"~a\\n\" (fib 2)))\n",
    "(display (format \"~a\\n\" (fib 3)))\n",
    "(display (format \"~a\\n\" (fib 4)))\n",
    "(display (format \"~a\\n\" (fib 5)))\n",
    "(display (format \"~a\\n\" (fib 6)))\n",
    "(display (format \"~a\\n\" (fib 7)))\n",
    "(display (format \"~a\\n\" (fib 8)))\n",
    "(display (format \"~a\\n\" (fib 9)))\n",
    "(display (format \"~a\\n\" (fib 10)))\n",
    "(display (format \"~a\\n\" (fib 11)))\n",
    "(display (format \"~a\\n\" (fib 12)))\n"
   ]
  },
  {
   "cell_type": "code",
   "execution_count": null,
   "metadata": {
    "vscode": {
     "languageId": "python"
    }
   },
   "outputs": [],
   "source": []
  }
 ],
 "metadata": {
  "kernelspec": {
   "display_name": "Calysto Scheme 3",
   "language": "scheme",
   "name": "calysto_scheme"
  },
  "language_info": {
   "codemirror_mode": {
    "name": "scheme"
   },
   "mimetype": "text/x-scheme",
   "name": "scheme",
   "pygments_lexer": "scheme"
  },
  "orig_nbformat": 4
 },
 "nbformat": 4,
 "nbformat_minor": 2
}
