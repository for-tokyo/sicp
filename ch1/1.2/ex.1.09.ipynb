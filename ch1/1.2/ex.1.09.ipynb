{
 "cells": [
  {
   "cell_type": "code",
   "execution_count": 2,
   "metadata": {
    "vscode": {
     "languageId": "python"
    }
   },
   "outputs": [],
   "source": [
    "(define (+ a b)\n",
    "  (if (= a 0)\n",
    "      b\n",
    "      (inc (+ (dec a) b))))\n"
   ]
  },
  {
   "cell_type": "markdown",
   "metadata": {},
   "source": [
    "```scheme\n",
    "(+ 4 5)\n",
    "(inc (+ (dec 4) 5 ))\n",
    "(inc (+ 3 5 ))\n",
    "(inc (inc (+ (dec 3) 5))\n",
    "(inc (inc (+ 2 5)))\n",
    "(inc (inc (inc (+ (dec 2) 5))))\n",
    "(inc (inc (inc (+ 1 5))))\n",
    "(inc (inc (inc (inc (+ (dec 1) 5)))))\n",
    "(inc (inc (inc (inc (+ 0 5)))))\n",
    "(inc (inc (inc (inc 5))))\n",
    "(inc (inc (inc 6)))\n",
    "(inc (inc 7))\n",
    "(inc 8)\n",
    "9\n",
    "```\n",
    "recursive process\n"
   ]
  },
  {
   "cell_type": "code",
   "execution_count": 10,
   "metadata": {
    "vscode": {
     "languageId": "python"
    }
   },
   "outputs": [],
   "source": [
    "(define (+ a b)\n",
    "  (if (= a 0)\n",
    "      b\n",
    "      (+ (dec a) (inc b))))"
   ]
  },
  {
   "cell_type": "markdown",
   "metadata": {},
   "source": [
    "```scheme\n",
    "(+ 4 5)\n",
    "(+ (dec 4) (inc 5))\n",
    "(+ 3 6)\n",
    "(+ (dec 3) (inc 6))\n",
    "(+ 2 7)\n",
    "(+ (dec 2) (inc 7))\n",
    "(+ 1 8)\n",
    "(+ (dec 1) (inc 8))\n",
    "(+ 0 9)\n",
    "9\n",
    "```\n",
    "iterative process"
   ]
  },
  {
   "cell_type": "code",
   "execution_count": 29,
   "metadata": {
    "vscode": {
     "languageId": "python"
    }
   },
   "outputs": [],
   "source": [
    ";iterative processをループで書き換え\n",
    "(define (+ a b)\n",
    "  (define (iter sum counter)\n",
    "    (if (> counter a)\n",
    "      sum\n",
    "      (iter (inc sum) (inc counter))\n",
    "    )\n",
    "  )\n",
    "  (iter b 1)\n",
    ")"
   ]
  },
  {
   "cell_type": "code",
   "execution_count": null,
   "metadata": {
    "vscode": {
     "languageId": "python"
    }
   },
   "outputs": [],
   "source": []
  }
 ],
 "metadata": {
  "kernelspec": {
   "display_name": "Calysto Scheme 3",
   "language": "scheme",
   "name": "calysto_scheme"
  },
  "language_info": {
   "codemirror_mode": {
    "name": "scheme"
   },
   "mimetype": "text/x-scheme",
   "name": "scheme",
   "pygments_lexer": "scheme"
  },
  "orig_nbformat": 4
 },
 "nbformat": 4,
 "nbformat_minor": 2
}
