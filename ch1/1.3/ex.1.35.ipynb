{
 "cells": [
  {
   "cell_type": "markdown",
   "metadata": {},
   "source": [
    "$$\n",
    "x \\mapsto 1+1/x\n",
    "$$\n",
    "の不動点は\n",
    "$$ \n",
    "x = 1+1/x\n",
    "$$\n",
    "$$\n",
    "\\Rightarrow\n",
    "x^2 = x+1\n",
    "$$\n",
    "を満たす。したがって黄金比である。"
   ]
  },
  {
   "cell_type": "code",
   "execution_count": 1,
   "metadata": {
    "vscode": {
     "languageId": "python"
    }
   },
   "outputs": [],
   "source": [
    "(define tolerance 0.00001)\n",
    "(define (fixed-point f first-guess)\n",
    "  (define (close-enough? v1 v2)\n",
    "    (< (abs (- v1 v2)) tolerance))\n",
    "  (define (_try guess)\n",
    "    (let ((next (f guess)))\n",
    "      (if (close-enough? guess next)\n",
    "          next\n",
    "          (_try next))))\n",
    "  (_try first-guess)\n",
    ")\n"
   ]
  },
  {
   "cell_type": "code",
   "execution_count": 2,
   "metadata": {
    "vscode": {
     "languageId": "python"
    }
   },
   "outputs": [
    {
     "data": {
      "text/plain": [
       "1.618035190615836"
      ]
     },
     "execution_count": 2,
     "metadata": {},
     "output_type": "execute_result"
    }
   ],
   "source": [
    "(fixed-point (lambda (x) (+ 1 (/ 1 x))) 3.0 )"
   ]
  }
 ],
 "metadata": {
  "kernelspec": {
   "display_name": "Calysto Scheme 3",
   "language": "scheme",
   "name": "calysto_scheme"
  },
  "language_info": {
   "codemirror_mode": {
    "name": "scheme"
   },
   "mimetype": "text/x-scheme",
   "name": "scheme",
   "pygments_lexer": "scheme"
  },
  "orig_nbformat": 4,
  "vscode": {
   "interpreter": {
    "hash": "58bed0880129c60da8b245c546414aa5964404476144c994b17ee7f80fea5e03"
   }
  }
 },
 "nbformat": 4,
 "nbformat_minor": 2
}
