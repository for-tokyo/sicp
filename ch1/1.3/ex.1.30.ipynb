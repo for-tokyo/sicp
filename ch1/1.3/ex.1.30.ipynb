{
 "cells": [
  {
   "cell_type": "code",
   "execution_count": 13,
   "metadata": {
    "vscode": {
     "languageId": "python"
    }
   },
   "outputs": [],
   "source": [
    "(define (sum term a next b)\n",
    "  (define (iter a result)\n",
    "    (if (> a b)\n",
    "     result\n",
    "     (iter (next a) (+ result (term a)))\n",
    "    )\n",
    "  )\n",
    "  (iter a 0)\n",
    ")\n",
    "\n"
   ]
  },
  {
   "cell_type": "markdown",
   "metadata": {},
   "source": [
    "以下確認"
   ]
  },
  {
   "cell_type": "code",
   "execution_count": 14,
   "metadata": {
    "vscode": {
     "languageId": "python"
    }
   },
   "outputs": [],
   "source": [
    "(define (odd? x) (= (remainder x 2) 1))\n",
    "(define (inc x) (+ x 1))\n",
    "\n",
    "(define (simpson-integral f a b n)\n",
    "  (define h (/ (- b a) n))\n",
    "  (define (simpson-term k)\n",
    "    (cond\n",
    "      ((= k 0) (f a))\n",
    "      ((= k n) (f b))\n",
    "      ((odd? k) (* 4 (f (+ a  (* k h) ) )))\n",
    "      (else (* 2 (f (+ a  (* k h) ) )))\n",
    "    )\n",
    "  )\n",
    "  (/ (* h (sum simpson-term 0 inc n)) 3)\n",
    ")"
   ]
  },
  {
   "cell_type": "code",
   "execution_count": 15,
   "metadata": {
    "vscode": {
     "languageId": "python"
    }
   },
   "outputs": [],
   "source": [
    "(define (cube x) (* x x x))"
   ]
  },
  {
   "cell_type": "code",
   "execution_count": 16,
   "metadata": {
    "vscode": {
     "languageId": "python"
    }
   },
   "outputs": [
    {
     "data": {
      "text/plain": [
       "1/4"
      ]
     },
     "execution_count": 16,
     "metadata": {},
     "output_type": "execute_result"
    }
   ],
   "source": [
    "(simpson-integral cube 0 1 100)"
   ]
  },
  {
   "cell_type": "code",
   "execution_count": null,
   "metadata": {
    "vscode": {
     "languageId": "python"
    }
   },
   "outputs": [],
   "source": []
  }
 ],
 "metadata": {
  "kernelspec": {
   "display_name": "Calysto Scheme 3",
   "language": "scheme",
   "name": "calysto_scheme"
  },
  "language_info": {
   "codemirror_mode": {
    "name": "scheme"
   },
   "mimetype": "text/x-scheme",
   "name": "scheme",
   "pygments_lexer": "scheme"
  },
  "orig_nbformat": 4
 },
 "nbformat": 4,
 "nbformat_minor": 2
}
