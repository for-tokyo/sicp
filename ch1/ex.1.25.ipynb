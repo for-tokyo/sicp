{
 "cells": [
  {
   "cell_type": "code",
   "execution_count": null,
   "metadata": {},
   "outputs": [],
   "source": [
    "(define (expmod base exp m)\n",
    "  (remainder (fast-expt base exp) m))"
   ]
  },
  {
   "cell_type": "markdown",
   "metadata": {},
   "source": [
    "計算自体は正しいが、演習の手法ではbaseのexp上という大きな数を計算する必要があり計算時間・メモリが大きくなる。\n",
    "\n",
    "\n",
    "本文中の方法は剰余のみの計算を行っており、途中の数値が小さいため、高速素数判定に向いている。"
   ]
  },
  {
   "cell_type": "markdown",
   "metadata": {},
   "source": []
  }
 ],
 "metadata": {
  "language_info": {
   "name": "python"
  },
  "orig_nbformat": 4
 },
 "nbformat": 4,
 "nbformat_minor": 2
}
