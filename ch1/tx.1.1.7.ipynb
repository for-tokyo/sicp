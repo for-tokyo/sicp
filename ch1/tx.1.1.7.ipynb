{
 "cells": [
  {
   "cell_type": "code",
   "execution_count": 33,
   "metadata": {},
   "outputs": [],
   "source": [
    "(define (square x)\n",
    "  (* x x)\n",
    "  )\n",
    "\n",
    "(define (abs x)\n",
    "  (if (>= x 0) x (- x))\n",
    ")\n",
    "\n",
    "(define (improve guess x)\n",
    "  (average guess (/ x guess))\n",
    "  )\n",
    "\n",
    "(define (average x y)\n",
    "  (/ (+ x y) 2)\n",
    "  )\n",
    "\n",
    "(define (good-enough? guess x)\n",
    "  (< (abs (- (square guess) x)) 0.001)\n",
    ")"
   ]
  },
  {
   "cell_type": "code",
   "execution_count": 39,
   "metadata": {},
   "outputs": [],
   "source": [
    "(define (sqrt-iterator guess x)\n",
    "  (if (good-enough? guess x)\n",
    "      guess ; then\n",
    "      (sqrt-iter (improve guess x) x) ; else\n",
    "    )\n",
    ")"
   ]
  },
  {
   "cell_type": "code",
   "execution_count": 40,
   "metadata": {},
   "outputs": [],
   "source": [
    "(define (sqrt x) (sqrt-iterator 1.0 x))"
   ]
  },
  {
   "cell_type": "code",
   "execution_count": 41,
   "metadata": {},
   "outputs": [
    {
     "data": {
      "text/plain": [
       "3.00009155413138"
      ]
     },
     "execution_count": 41,
     "metadata": {},
     "output_type": "execute_result"
    }
   ],
   "source": [
    "(sqrt 9)"
   ]
  },
  {
   "cell_type": "code",
   "execution_count": null,
   "metadata": {},
   "outputs": [],
   "source": []
  }
 ],
 "metadata": {
  "kernelspec": {
   "display_name": "Calysto Scheme 3",
   "language": "scheme",
   "name": "calysto_scheme"
  },
  "language_info": {
   "codemirror_mode": {
    "name": "scheme"
   },
   "mimetype": "text/x-scheme",
   "name": "scheme",
   "pygments_lexer": "scheme"
  }
 },
 "nbformat": 4,
 "nbformat_minor": 4
}
