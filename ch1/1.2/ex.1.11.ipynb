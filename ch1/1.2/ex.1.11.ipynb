{
 "cells": [
  {
   "cell_type": "code",
   "execution_count": 6,
   "metadata": {
    "vscode": {
     "languageId": "python"
    }
   },
   "outputs": [],
   "source": [
    ";再帰\n",
    "(define (f-rec n)\n",
    "  (if \n",
    "    (< n 3) \n",
    "      n \n",
    "      (+\n",
    "        (f-rec (- n 1))\n",
    "        (f-rec (- n 2))\n",
    "        (f-rec (- n 3))\n",
    "      )\n",
    "  )\n",
    ")"
   ]
  },
  {
   "cell_type": "code",
   "execution_count": 17,
   "metadata": {
    "vscode": {
     "languageId": "python"
    }
   },
   "outputs": [
    {
     "name": "stdout",
     "output_type": "stream",
     "text": [
      "0\n",
      "1\n",
      "2\n",
      "3\n",
      "6\n",
      "11\n",
      "20\n"
     ]
    }
   ],
   "source": [
    "(display (f-rec 0)) (display \"\\n\")\n",
    "(display (f-rec 1)) (display \"\\n\")\n",
    "(display (f-rec 2)) (display \"\\n\")\n",
    "(display (f-rec 3)) (display \"\\n\")\n",
    "(display (f-rec 4)) (display \"\\n\")\n",
    "(display (f-rec 5)) (display \"\\n\")\n",
    "(display (f-rec 6)) (display \"\\n\")\n",
    "\n"
   ]
  },
  {
   "cell_type": "code",
   "execution_count": 20,
   "metadata": {
    "vscode": {
     "languageId": "python"
    }
   },
   "outputs": [],
   "source": [
    "; 繰り返し\n",
    "(define (f-itr n)\n",
    "  (define (itr count fn1 fn2 fn3)\n",
    "    (if (> count n)\n",
    "      fn1\n",
    "      (itr (+ count 1) (+ fn1 fn2 fn3) fn1 fn2)\n",
    "    )\n",
    "  )\n",
    "  (if (< n 3)\n",
    "    n\n",
    "    (itr 3 2 1 0)\n",
    "  )\n",
    ")"
   ]
  },
  {
   "cell_type": "code",
   "execution_count": 21,
   "metadata": {
    "vscode": {
     "languageId": "python"
    }
   },
   "outputs": [
    {
     "name": "stdout",
     "output_type": "stream",
     "text": [
      "0\n",
      "1\n",
      "2\n",
      "3\n",
      "6\n",
      "11\n",
      "20\n"
     ]
    }
   ],
   "source": [
    "(display (f-itr 0)) (display \"\\n\")\n",
    "(display (f-itr 1)) (display \"\\n\")\n",
    "(display (f-itr 2)) (display \"\\n\")\n",
    "(display (f-itr 3)) (display \"\\n\")\n",
    "(display (f-itr 4)) (display \"\\n\")\n",
    "(display (f-itr 5)) (display \"\\n\")\n",
    "(display (f-itr 6)) (display \"\\n\")\n",
    "\n"
   ]
  },
  {
   "cell_type": "code",
   "execution_count": null,
   "metadata": {
    "vscode": {
     "languageId": "python"
    }
   },
   "outputs": [],
   "source": []
  }
 ],
 "metadata": {
  "kernelspec": {
   "display_name": "Calysto Scheme 3",
   "language": "scheme",
   "name": "calysto_scheme"
  },
  "language_info": {
   "codemirror_mode": {
    "name": "scheme"
   },
   "mimetype": "text/x-scheme",
   "name": "scheme",
   "pygments_lexer": "scheme"
  },
  "orig_nbformat": 4
 },
 "nbformat": 4,
 "nbformat_minor": 2
}
