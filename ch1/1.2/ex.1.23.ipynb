{
 "cells": [
  {
   "cell_type": "code",
   "execution_count": 2,
   "metadata": {
    "vscode": {
     "languageId": "python"
    }
   },
   "outputs": [],
   "source": [
    "; pythonのtime.timeをruntimeとして利用する\n",
    "(import \"time\")\n",
    "(define runtime time.time)"
   ]
  },
  {
   "cell_type": "code",
   "execution_count": 1,
   "metadata": {
    "vscode": {
     "languageId": "python"
    }
   },
   "outputs": [],
   "source": [
    "(define (square x) (* x x))\n",
    "(define (smallest-divisor n)\n",
    "  (find-divisor n 2))\n",
    "\n",
    ";今回演習の解答となる関数\n",
    "(define (next-test-divisor test-divisor)\n",
    "  (if (= test-divisor 2) 3 (+ test-divisor 2))\n",
    ")\n",
    "\n",
    "(define (find-divisor n test-divisor)\n",
    "  (cond ((> (square test-divisor) n) n)\n",
    "        ((divides? test-divisor n) test-divisor)\n",
    "        (else (find-divisor n (next-test-divisor test-divisor)))))\n",
    "(define (divides? a b)\n",
    "  (= (remainder b a) 0))\n",
    "\n",
    "(define (prime? n)\n",
    "  (= n (smallest-divisor n)))\n"
   ]
  },
  {
   "cell_type": "code",
   "execution_count": 3,
   "metadata": {
    "vscode": {
     "languageId": "python"
    }
   },
   "outputs": [],
   "source": [
    "(define (timed-prime-test n)\n",
    "  (newline)\n",
    "  (display n)\n",
    "  (start-prime-test n (runtime)))\n",
    "(define (start-prime-test n start-time)\n",
    "  (if (prime? n)\n",
    "      (report-prime (- (runtime) start-time))))\n",
    "(define (report-prime elapsed-time)\n",
    "  (display \" *** \")\n",
    "  (display elapsed-time))"
   ]
  },
  {
   "cell_type": "code",
   "execution_count": 8,
   "metadata": {
    "vscode": {
     "languageId": "python"
    }
   },
   "outputs": [
    {
     "name": "stdout",
     "output_type": "stream",
     "text": [
      "\n",
      "1009 *** 0.010336160659790039\n",
      "1013 *** 0.011514663696289062\n",
      "1019 *** 0.011439800262451172\n",
      "10007 *** 0.03630828857421875\n",
      "10009 *** 0.031234264373779297\n",
      "10037 *** 0.05573225021362305\n",
      "100003 *** 0.12242293357849121\n",
      "100019 *** 0.09978628158569336\n",
      "100043 *** 0.11468648910522461"
     ]
    }
   ],
   "source": [
    "(timed-prime-test 1009)\n",
    "(timed-prime-test 1013)\n",
    "(timed-prime-test 1019)\n",
    "\n",
    "(timed-prime-test 10007)\n",
    "(timed-prime-test 10009)\n",
    "(timed-prime-test 10037)\n",
    "\n",
    "(timed-prime-test 100003)\n",
    "(timed-prime-test 100019)\n",
    "(timed-prime-test 100043)\n"
   ]
  },
  {
   "cell_type": "markdown",
   "metadata": {},
   "source": [
    "ex.1.22の時間\n",
    "```\n",
    "1009 *** 0.014002799987792969\n",
    "1013 *** 0.013341426849365234\n",
    "1019 *** 0.014364957809448242\n",
    "\n",
    "10007 *** 0.04450702667236328\n",
    "10009 *** 0.0482325553894043\n",
    "10037 *** 0.0419158935546875\n",
    "\n",
    "100003 *** 0.14098691940307617\n",
    "100019 *** 0.13733649253845215\n",
    "100043 *** 0.1675570011138916\n",
    "```\n",
    "\n",
    "ex1.23の時間\n",
    "```\n",
    "1009 *** 0.010336160659790039\n",
    "1013 *** 0.011514663696289062\n",
    "1019 *** 0.011439800262451172\n",
    "10007 *** 0.03630828857421875\n",
    "10009 *** 0.031234264373779297\n",
    "10037 *** 0.05573225021362305\n",
    "100003 *** 0.12242293357849121\n",
    "100019 *** 0.09978628158569336\n",
    "100043 *** 0.11468648910522461\n",
    "```\n",
    "高速化しているが2倍ほどは差がついていない。これはnext-test-divisorでifの処理時間が追加でかかっているためである。"
   ]
  },
  {
   "cell_type": "markdown",
   "metadata": {},
   "source": []
  }
 ],
 "metadata": {
  "kernelspec": {
   "display_name": "Calysto Scheme 3",
   "language": "scheme",
   "name": "calysto_scheme"
  },
  "language_info": {
   "codemirror_mode": {
    "name": "scheme"
   },
   "mimetype": "text/x-scheme",
   "name": "scheme",
   "pygments_lexer": "scheme"
  },
  "orig_nbformat": 4
 },
 "nbformat": 4,
 "nbformat_minor": 2
}
