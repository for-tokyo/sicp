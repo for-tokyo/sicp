{
 "cells": [
  {
   "cell_type": "code",
   "execution_count": null,
   "metadata": {
    "vscode": {
     "languageId": "python"
    }
   },
   "outputs": [],
   "source": [
    ";再帰プロセス\n",
    "(define (accumulate combiner null-value term a next b)\n",
    "  (if (> a b)\n",
    "    null-value\n",
    "    (combiner (term a) (accumulate combiner null-value term (next a) next b))\n",
    "  )\n",
    ")"
   ]
  },
  {
   "cell_type": "code",
   "execution_count": null,
   "metadata": {
    "vscode": {
     "languageId": "python"
    }
   },
   "outputs": [],
   "source": [
    ";線形プロセス\n",
    "(define (accumulate combiner null-value term a next b)\n",
    "  (define (iter a value)\n",
    "    (if (> a b)\n",
    "      value\n",
    "      (iter (next a) (combiner (term a) value))\n",
    "    )\n",
    "  )\n",
    ")"
   ]
  }
 ],
 "metadata": {
  "kernelspec": {
   "display_name": "Calysto Scheme 3",
   "language": "scheme",
   "name": "calysto_scheme"
  },
  "language_info": {
   "name": "scheme"
  },
  "orig_nbformat": 4
 },
 "nbformat": 4,
 "nbformat_minor": 2
}
