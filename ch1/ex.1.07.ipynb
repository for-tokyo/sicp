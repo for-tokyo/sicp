{
 "cells": [
  {
   "cell_type": "code",
   "execution_count": 2,
   "metadata": {
    "vscode": {
     "languageId": "json"
    }
   },
   "outputs": [],
   "source": [
    "(define (square x)\n",
    "  (* x x)\n",
    "  )\n",
    "\n",
    "(define (abs x)\n",
    "  (if (>= x 0) x (- x))\n",
    ")\n",
    "\n",
    "(define (improve guess x)\n",
    "  (average guess (/ x guess))\n",
    "  )\n",
    "\n",
    "(define (average x y)\n",
    "  (/ (+ x y) 2)\n",
    "  )\n",
    "\n",
    "(define (good-enough? guess x)\n",
    "  (< (abs (- (square guess) x)) 0.001)\n",
    ")\n",
    "\n",
    "(define (sqrt-iterator guess x)\n",
    "  (if (good-enough? guess x)\n",
    "      guess ; then\n",
    "      (sqrt-iterator (improve guess x) x) ; else\n",
    "    )\n",
    ")\n",
    "(define (sqrt x) (sqrt-iterator 1.0 x))"
   ]
  },
  {
   "cell_type": "code",
   "execution_count": 3,
   "metadata": {
    "vscode": {
     "languageId": "json"
    }
   },
   "outputs": [],
   "source": [
    "(define (good-enough2? guess_pre guess)\n",
    "  (< (abs (- guess_pre guess)) 0.001)\n",
    "  )\n",
    "(define (sqrt-iterator2 guess_pre guess x)\n",
    "  (if (good-enough2? guess_pre guess)\n",
    "      guess ; then\n",
    "      (sqrt-iterator2 guess (improve guess x) x) ; else\n",
    "    )\n",
    ")\n",
    "(define (sqrt2 x) (sqrt-iterator2 0 1.0 x))"
   ]
  },
  {
   "cell_type": "code",
   "execution_count": 4,
   "metadata": {
    "vscode": {
     "languageId": "json"
    }
   },
   "outputs": [
    {
     "data": {
      "text/plain": [
       "0.03162278245070105"
      ]
     },
     "execution_count": 4,
     "metadata": {},
     "output_type": "execute_result"
    }
   ],
   "source": [
    "(sqrt2 0.001)"
   ]
  },
  {
   "cell_type": "code",
   "execution_count": 5,
   "metadata": {
    "vscode": {
     "languageId": "json"
    }
   },
   "outputs": [
    {
     "data": {
      "text/plain": [
       "0.0010000003699243661"
      ]
     },
     "execution_count": 5,
     "metadata": {},
     "output_type": "execute_result"
    }
   ],
   "source": [
    "(square (sqrt2 0.001))"
   ]
  },
  {
   "cell_type": "code",
   "execution_count": 6,
   "metadata": {
    "vscode": {
     "languageId": "json"
    }
   },
   "outputs": [
    {
     "data": {
      "text/plain": [
       "0.04124542607499115"
      ]
     },
     "execution_count": 6,
     "metadata": {},
     "output_type": "execute_result"
    }
   ],
   "source": [
    "(sqrt 0.001)"
   ]
  },
  {
   "cell_type": "code",
   "execution_count": 7,
   "metadata": {
    "vscode": {
     "languageId": "json"
    }
   },
   "outputs": [
    {
     "data": {
      "text/plain": [
       "0.0017011851721075596"
      ]
     },
     "execution_count": 7,
     "metadata": {},
     "output_type": "execute_result"
    }
   ],
   "source": [
    "(square (sqrt 0.001))"
   ]
  },
  {
   "cell_type": "code",
   "execution_count": null,
   "metadata": {
    "vscode": {
     "languageId": "json"
    }
   },
   "outputs": [],
   "source": []
  }
 ],
 "metadata": {
  "kernelspec": {
   "display_name": "Calysto Scheme 3",
   "language": "scheme",
   "name": "calysto_scheme"
  },
  "language_info": {
   "codemirror_mode": {
    "name": "scheme"
   },
   "mimetype": "text/x-scheme",
   "name": "scheme",
   "pygments_lexer": "scheme"
  }
 },
 "nbformat": 4,
 "nbformat_minor": 4
}
