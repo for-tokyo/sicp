{
 "cells": [
  {
   "cell_type": "code",
   "execution_count": null,
   "metadata": {},
   "outputs": [],
   "source": [
    "expmodを2回計算しており、expmodの回数が2のべきで増加する。\n",
    "偶数判定によりlog2で減少した分と相殺してlog(n)となっている。"
   ]
  }
 ],
 "metadata": {
  "language_info": {
   "name": "python"
  },
  "orig_nbformat": 4
 },
 "nbformat": 4,
 "nbformat_minor": 2
}
