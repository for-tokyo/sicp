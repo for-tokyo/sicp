{
 "cells": [
  {
   "cell_type": "code",
   "execution_count": 10,
   "metadata": {
    "vscode": {
     "languageId": "python"
    }
   },
   "outputs": [],
   "source": [
    "(define tolerance 0.00001)\n",
    "(define (fixed-point f first-guess)\n",
    "  (define (close-enough? v1 v2)\n",
    "    (< (abs (- v1 v2)) tolerance))\n",
    "  (define (_try guess)\n",
    "    (display guess)\n",
    "    (newline)\n",
    "    (let ((next (f guess)))\n",
    "      (if (close-enough? guess next)\n",
    "          next\n",
    "          (_try next))))\n",
    "  (_try first-guess)\n",
    ")\n"
   ]
  },
  {
   "cell_type": "code",
   "execution_count": 11,
   "metadata": {
    "vscode": {
     "languageId": "python"
    }
   },
   "outputs": [
    {
     "data": {
      "text/plain": [
       "(log)"
      ]
     },
     "execution_count": 11,
     "metadata": {},
     "output_type": "execute_result"
    }
   ],
   "source": [
    "(import-from \"math\" \"log\")"
   ]
  },
  {
   "cell_type": "code",
   "execution_count": 18,
   "metadata": {
    "vscode": {
     "languageId": "python"
    }
   },
   "outputs": [
    {
     "name": "stdout",
     "output_type": "stream",
     "text": [
      "2.0\n",
      "9.965784284662087\n",
      "3.004472209841214\n",
      "6.279195757507157\n",
      "3.759850702401539\n",
      "5.215843784925895\n",
      "4.182207192401397\n",
      "4.8277650983445906\n",
      "4.387593384662677\n",
      "4.671250085763899\n",
      "4.481403616895052\n",
      "4.6053657460929\n",
      "4.5230849678718865\n",
      "4.577114682047341\n",
      "4.541382480151454\n",
      "4.564903245230833\n",
      "4.549372679303342\n",
      "4.559606491913287\n",
      "4.552853875788271\n",
      "4.557305529748263\n",
      "4.554369064436181\n",
      "4.556305311532999\n",
      "4.555028263573554\n",
      "4.555870396702851\n",
      "4.555315001192079\n",
      "4.5556812635433275\n",
      "4.555439715736846\n",
      "4.555599009998291\n",
      "4.555493957531389\n",
      "4.555563237292884\n",
      "4.555517548417651\n",
      "4.555547679306398\n",
      "4.555527808516254\n",
      "4.555540912917957\n"
     ]
    },
    {
     "data": {
      "text/plain": [
       "4.555532270803653"
      ]
     },
     "execution_count": 18,
     "metadata": {},
     "output_type": "execute_result"
    }
   ],
   "source": [
    "(fixed-point (lambda (x) (/ (log 1000) (log x)) ) 2.0 )"
   ]
  },
  {
   "cell_type": "markdown",
   "metadata": {},
   "source": [
    "$$\n",
    "x \\mapsto \\frac{log(1000)}{log(x)}\n",
    "\\\\\n",
    "\\Rightarrow\n",
    "x \\mapsto \\frac{1}{2} \\left( x +  \\frac{log(1000)}{log(x)} \\right)\n",
    "$$"
   ]
  },
  {
   "cell_type": "code",
   "execution_count": 23,
   "metadata": {
    "vscode": {
     "languageId": "python"
    }
   },
   "outputs": [
    {
     "name": "stdout",
     "output_type": "stream",
     "text": [
      "2.0\n",
      "5.9828921423310435\n",
      "4.922168721308343\n",
      "4.628224318195455\n",
      "4.568346513136242\n",
      "4.5577305909237005\n",
      "4.555909809045131\n",
      "4.555599411610624\n",
      "4.5555465521473675\n"
     ]
    },
    {
     "data": {
      "text/plain": [
       "4.555537551999825"
      ]
     },
     "execution_count": 23,
     "metadata": {},
     "output_type": "execute_result"
    }
   ],
   "source": [
    "(fixed-point (lambda (x) (/ (+ x (/ (log 1000) (log x)) ) 2) ) 2.0 )"
   ]
  },
  {
   "cell_type": "code",
   "execution_count": null,
   "metadata": {
    "vscode": {
     "languageId": "python"
    }
   },
   "outputs": [],
   "source": []
  }
 ],
 "metadata": {
  "kernelspec": {
   "display_name": "Calysto Scheme 3",
   "language": "scheme",
   "name": "calysto_scheme"
  },
  "language_info": {
   "codemirror_mode": {
    "name": "scheme"
   },
   "mimetype": "text/x-scheme",
   "name": "scheme",
   "pygments_lexer": "scheme"
  },
  "orig_nbformat": 4,
  "vscode": {
   "interpreter": {
    "hash": "58bed0880129c60da8b245c546414aa5964404476144c994b17ee7f80fea5e03"
   }
  }
 },
 "nbformat": 4,
 "nbformat_minor": 2
}
