{
 "cells": [
  {
   "cell_type": "markdown",
   "metadata": {},
   "source": [
    "Exercise 1.13.  Prove that Fib(n) is the closest integer to $ n/\\sqrt{5} $, where $ \\phi = (1 + \\sqrt{5})/2 $. Hint: Let $ \\psi = (1 - \\sqrt{5})/2 $. Use induction and the definition of the Fibonacci numbers (see section 1.2.2) to prove that Fib(n) = $ (\\phi^n - \\psi^n)/\\sqrt{5} $."
   ]
  },
  {
   "cell_type": "markdown",
   "metadata": {},
   "source": [
    "$$\n",
    "Fib(n) = \\begin{cases}\n",
    "  0 (n = 0) \\\\\n",
    "  1 (n = 1) \\\\\n",
    "  Fin(n-1) + Fib(n-2) else \\\\\n",
    "\\end{cases} \\\\\n",
    "$$"
   ]
  },
  {
   "cell_type": "markdown",
   "metadata": {},
   "source": [
    "前半\n",
    "$$\n",
    "\\begin{cases}\n",
    "  \\phi = (1 + \\sqrt{5})/2 \\\\\n",
    "  \\psi = (1 - \\sqrt{5})/2\n",
    "\\end{cases} \\\\\n",
    "\\Rightarrow  \\begin{cases}\n",
    "  \\phi+psi = 1 \\\\\n",
    "  \\phi\\psi = -1\n",
    "\\end{cases}\n",
    "$$\n",
    "であるから\n",
    "$$\n",
    "(Fib(n+1) - \\phi Fib(n)) = \\psi(Fib(n-1)-\\phi Fib(n-2)) \\\\\n",
    "\\Rightarrow (Fib(n+1) - \\phi Fib(n))=\\psi^n (Fib(1)-\\phi Fib(0)) = \\psi^n \n",
    "$$\n",
    "同様に、\n",
    "$$\n",
    "(Fib(n+1) - \\psi Fib(n))=\\phi^n\n",
    "$$\n",
    "両辺を引くと、\n",
    "$$\n",
    "(\\phi - \\psi)Fib(n) = \\phi^n - \\psi^n \\\\\n",
    "\\Rightarrow Fib(n) = (\\phi^n - \\psi^n)/\\sqrt{5}\n",
    "$$"
   ]
  },
  {
   "cell_type": "markdown",
   "metadata": {},
   "source": [
    "後半、\n",
    "$Fib(n)$が整数であることは定義より明らかである。  \n",
    "$$\n",
    "-1 < \\psi < 0\n",
    "$$\n",
    "であり、また  \n",
    "$$\n",
    "-0.5 < \\psi/\\sqrt{5} < 0\n",
    "$$\n",
    "であるから、$n > 1$のとき、  \n",
    "$$\n",
    "|\\psi^n/\\sqrt{5}| < 0.5 \n",
    "$$\n",
    "となる。  \n",
    "したがって、$n > 1$のとき  \n",
    "$$\n",
    "|Fib(n) - \\phi^n/\\sqrt{5}| = |\\psi^n/\\sqrt{5}| < 0.5\n",
    "$$\n",
    "となり、$Fib(n)$は$\\phi^n/\\sqrt{5}$の最も近い整数となる。$\\blacksquare$  \n",
    "ちなみに$n=0$のとき$Fib(0)=0、\\phi^n/\\sqrt{5}=1$であるから、$n=0$のときのみ問題文の定理は成立しない。\n",
    "$$"
   ]
  },
  {
   "cell_type": "code",
   "execution_count": null,
   "metadata": {
    "vscode": {
     "languageId": "plaintext"
    }
   },
   "outputs": [],
   "source": []
  },
  {
   "cell_type": "markdown",
   "metadata": {},
   "source": []
  }
 ],
 "metadata": {
  "kernelspec": {
   "display_name": "Calysto Scheme 3",
   "language": "scheme",
   "name": "calysto_scheme"
  },
  "language_info": {
   "codemirror_mode": {
    "name": "scheme"
   },
   "mimetype": "text/x-scheme",
   "name": "scheme",
   "pygments_lexer": "scheme"
  },
  "orig_nbformat": 4
 },
 "nbformat": 4,
 "nbformat_minor": 2
}
