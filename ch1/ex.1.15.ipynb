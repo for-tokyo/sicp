{
 "cells": [
  {
   "cell_type": "markdown",
   "metadata": {},
   "source": [
    "```scheme\n",
    "(sine 12.15)  \n",
    "(p (sine 4.05))  \n",
    "(p (p (sine 1.35)))  \n",
    "(p (p (p (sine 0.45))))  \n",
    "(p (p (p (p (sine 0.15)))))  \n",
    "(p (p (p (p (p (sine 0.05))))))  \n",
    "(p (p (p (p (p 0.05))))) \n",
    "``` \n",
    "よって5回適用される。  \n",
    "(sine a)のステップ数、空間数ともにO(lon(n))で増加する。"
   ]
  },
  {
   "cell_type": "markdown",
   "metadata": {},
   "source": []
  }
 ],
 "metadata": {
  "language_info": {
   "name": "python"
  },
  "orig_nbformat": 4
 },
 "nbformat": 4,
 "nbformat_minor": 2
}
