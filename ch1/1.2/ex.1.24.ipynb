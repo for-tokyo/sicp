{
 "cells": [
  {
   "cell_type": "code",
   "execution_count": 13,
   "metadata": {
    "vscode": {
     "languageId": "python"
    }
   },
   "outputs": [],
   "source": [
    "; pythonのrandom.randintを利用\n",
    "(define (random n)\n",
    " (import-as  \"random\" 'pyrandom)\n",
    " (pyrandom.randint 0 (- n 1))\n",
    ")\n",
    "\n",
    " ; pythonのtime.timeをruntimeとして利用する\n",
    "(import \"time\")\n",
    "(define runtime time.time)\n"
   ]
  },
  {
   "cell_type": "code",
   "execution_count": 23,
   "metadata": {
    "vscode": {
     "languageId": "python"
    }
   },
   "outputs": [],
   "source": [
    "(define (square x) (* x x))\n",
    "(define (expmod base exp m)\n",
    "  (cond ((= exp 0) 1)\n",
    "        ((even? exp)\n",
    "         (remainder (square (expmod base (/ exp 2) m))\n",
    "                    m))\n",
    "        (else\n",
    "         (remainder (* base (expmod base (- exp 1) m))\n",
    "                    m))))\n",
    "(define (fermat-test n)\n",
    "  (define (try-it a)\n",
    "    (= (expmod a n n) a))\n",
    "  (try-it (+ 1 (random (- n 1)))))\n",
    "(define (fast-prime? n times)\n",
    "(cond ((= times 0) #t)\n",
    "      ((fermat-test n) (fast-prime? n (- times 1)))\n",
    "      (else #f)))\n",
    "\n",
    "\n",
    "\n",
    "\n"
   ]
  },
  {
   "cell_type": "code",
   "execution_count": 24,
   "metadata": {
    "vscode": {
     "languageId": "python"
    }
   },
   "outputs": [],
   "source": [
    "(define (timed-prime-test n)\n",
    "  (newline)\n",
    "  (display n)\n",
    "  (start-prime-test n (runtime)))\n",
    "(define (start-prime-test n start-time)\n",
    "  (if (fast-prime? n 10)\n",
    "      (report-prime (- (runtime) start-time))))\n",
    "(define (report-prime elapsed-time)\n",
    "  (display \" *** \")\n",
    "  (display elapsed-time))"
   ]
  },
  {
   "cell_type": "code",
   "execution_count": 25,
   "metadata": {
    "vscode": {
     "languageId": "python"
    }
   },
   "outputs": [
    {
     "name": "stdout",
     "output_type": "stream",
     "text": [
      "\n",
      "1009 *** 0.09365439414978027\n",
      "1013 *** 0.07596087455749512\n",
      "1019 *** 0.0830080509185791\n",
      "10007 *** 0.09188246726989746\n",
      "10009 *** 0.08464598655700684\n",
      "10037 *** 0.10161566734313965\n",
      "100003 *** 0.1117086410522461\n",
      "100019 *** 0.10464072227478027\n",
      "100043 *** 0.10356402397155762"
     ]
    }
   ],
   "source": [
    "(timed-prime-test 1009)\n",
    "(timed-prime-test 1013)\n",
    "(timed-prime-test 1019)\n",
    "\n",
    "(timed-prime-test 10007)\n",
    "(timed-prime-test 10009)\n",
    "(timed-prime-test 10037)\n",
    "\n",
    "(timed-prime-test 100003)\n",
    "(timed-prime-test 100019)\n",
    "(timed-prime-test 100043)\n"
   ]
  },
  {
   "cell_type": "code",
   "execution_count": null,
   "metadata": {
    "vscode": {
     "languageId": "python"
    }
   },
   "outputs": [],
   "source": []
  }
 ],
 "metadata": {
  "kernelspec": {
   "display_name": "Calysto Scheme 3",
   "language": "scheme",
   "name": "calysto_scheme"
  },
  "language_info": {
   "codemirror_mode": {
    "name": "scheme"
   },
   "mimetype": "text/x-scheme",
   "name": "scheme",
   "pygments_lexer": "scheme"
  },
  "orig_nbformat": 4
 },
 "nbformat": 4,
 "nbformat_minor": 2
}
