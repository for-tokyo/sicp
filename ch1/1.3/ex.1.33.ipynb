{
 "cells": [
  {
   "cell_type": "code",
   "execution_count": 25,
   "metadata": {
    "vscode": {
     "languageId": "python"
    }
   },
   "outputs": [],
   "source": [
    "(define (filtered-accumulate combiner null-value term a next b condition_func)\n",
    "  (if (> a b)\n",
    "    null-value\n",
    "    (if (condition_func a)\n",
    "      (combiner (term a) (filltered-accumulate combiner null-value term (next a) next b condition_func))\n",
    "      (filtered-accumulate combiner null-value term (next a) next b condition_func)\n",
    "    )\n",
    "  )\n",
    ")"
   ]
  },
  {
   "cell_type": "code",
   "execution_count": 3,
   "metadata": {
    "vscode": {
     "languageId": "python"
    }
   },
   "outputs": [],
   "source": []
  },
  {
   "cell_type": "code",
   "execution_count": 6,
   "metadata": {
    "vscode": {
     "languageId": "python"
    }
   },
   "outputs": [],
   "source": [
    "(define (smallest-divisor n)\n",
    "  (find-divisor n 2))\n",
    "(define (find-divisor n test-divisor)\n",
    "  (cond ((> (square test-divisor) n) n)\n",
    "        ((divides? test-divisor n) test-divisor)\n",
    "        (else (find-divisor n (+ test-divisor 1)))))\n",
    "(define (divides? a b)\n",
    "  (= (remainder b a) 0))\n",
    "\n",
    "(define (prime? n)\n",
    "  (= n (smallest-divisor n)))\n",
    "\n"
   ]
  },
  {
   "cell_type": "code",
   "execution_count": 26,
   "metadata": {
    "vscode": {
     "languageId": "python"
    }
   },
   "outputs": [],
   "source": [
    "(define (square x) (* x x))\n",
    "(define (inc x) (+ x 1))\n",
    "\n",
    "(define (sum-of-squared-primes a b)\n",
    "  (filtered-accumulate + 0 square a inc b prime?)\n",
    ")"
   ]
  },
  {
   "cell_type": "code",
   "execution_count": 27,
   "metadata": {
    "vscode": {
     "languageId": "python"
    }
   },
   "outputs": [
    {
     "data": {
      "text/plain": [
       "88"
      ]
     },
     "execution_count": 27,
     "metadata": {},
     "output_type": "execute_result"
    }
   ],
   "source": [
    "(sum-of-squared-primes 1 10)"
   ]
  },
  {
   "cell_type": "code",
   "execution_count": 28,
   "metadata": {
    "vscode": {
     "languageId": "python"
    }
   },
   "outputs": [],
   "source": [
    "(define (gcd a b)\n",
    "  (if (= b 0)\n",
    "      a\n",
    "      (gcd b (remainder a b))))\n",
    "\n",
    "\n",
    "(define (identity x) x)\n",
    "\n",
    "(define (product-of-comprime n)\n",
    "  (define (comprime? x)\n",
    "    (= (gcd n x) 1))\n",
    "  (filtered-accumulate * 1 identity 1 inc (- n 1) comprime?)\n",
    ")"
   ]
  },
  {
   "cell_type": "code",
   "execution_count": 30,
   "metadata": {
    "vscode": {
     "languageId": "python"
    }
   },
   "outputs": [
    {
     "data": {
      "text/plain": [
       "189"
      ]
     },
     "execution_count": 30,
     "metadata": {},
     "output_type": "execute_result"
    }
   ],
   "source": [
    "(product-of-comprime 10)"
   ]
  },
  {
   "cell_type": "code",
   "execution_count": null,
   "metadata": {
    "vscode": {
     "languageId": "python"
    }
   },
   "outputs": [],
   "source": []
  }
 ],
 "metadata": {
  "kernelspec": {
   "display_name": "Calysto Scheme 3",
   "language": "scheme",
   "name": "calysto_scheme"
  },
  "language_info": {
   "codemirror_mode": {
    "name": "scheme"
   },
   "mimetype": "text/x-scheme",
   "name": "scheme",
   "pygments_lexer": "scheme"
  },
  "orig_nbformat": 4
 },
 "nbformat": 4,
 "nbformat_minor": 2
}
