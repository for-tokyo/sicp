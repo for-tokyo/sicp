{
 "cells": [
  {
   "cell_type": "code",
   "execution_count": 1,
   "id": "f19ff63c",
   "metadata": {},
   "outputs": [
    {
     "data": {
      "text/plain": [
       "-37/150"
      ]
     },
     "execution_count": 1,
     "metadata": {},
     "output_type": "execute_result"
    }
   ],
   "source": [
    "(/ \t(+ 5 4 (- 2 (- 3 (+ 6 (/ 4 5)))))\n",
    "\t(* 3 (- 6 2) (- 2 7)))"
   ]
  },
  {
   "cell_type": "code",
   "execution_count": null,
   "id": "671255cd",
   "metadata": {},
   "outputs": [],
   "source": []
  }
 ],
 "metadata": {
  "kernelspec": {
   "display_name": "Calysto Scheme 3",
   "language": "scheme",
   "name": "calysto_scheme"
  },
  "language_info": {
   "codemirror_mode": {
    "name": "scheme"
   },
   "mimetype": "text/x-scheme",
   "name": "scheme",
   "pygments_lexer": "scheme"
  }
 },
 "nbformat": 4,
 "nbformat_minor": 5
}
