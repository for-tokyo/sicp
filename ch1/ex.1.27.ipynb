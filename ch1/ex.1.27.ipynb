{
 "cells": [
  {
   "cell_type": "code",
   "execution_count": 2,
   "metadata": {
    "vscode": {
     "languageId": "python"
    }
   },
   "outputs": [],
   "source": [
    "(define true #t)\n",
    "(define false #f)"
   ]
  },
  {
   "cell_type": "code",
   "execution_count": 4,
   "metadata": {
    "vscode": {
     "languageId": "python"
    }
   },
   "outputs": [],
   "source": [
    "\n",
    "(define (square x) (* x x))\n",
    "(define (expmod base exp m)\n",
    "  (cond ((= exp 0) 1)\n",
    "        ((even? exp)\n",
    "         (remainder (square (expmod base (/ exp 2) m))\n",
    "                    m))\n",
    "        (else\n",
    "         (remainder (* base (expmod base (- exp 1) m))\n",
    "                    m))))\n",
    "(define (fermat-test n a)\n",
    "  (= (expmod a n n) a))\n",
    "\n",
    "(define (fermat-test-all n)\n",
    "  (define (itr a)\n",
    "    (cond \n",
    "      ((= a n) false)\n",
    "      ((fermat-test n a) (fermat-test n (+ a 1)))\n",
    "    )\n",
    "  )\n",
    "  (itr 1)\n",
    ")\n",
    "\n"
   ]
  },
  {
   "cell_type": "code",
   "execution_count": 11,
   "metadata": {
    "vscode": {
     "languageId": "python"
    }
   },
   "outputs": [
    {
     "name": "stdout",
     "output_type": "stream",
     "text": [
      "561: True\n",
      "1105: True\n",
      "1729: True\n",
      "2465: True\n",
      "2821: True\n",
      "6601: True\n"
     ]
    }
   ],
   "source": [
    "(display (format \"~a: ~a\\n\" 561 (fermat-test-all 561)))\n",
    "(display (format \"~a: ~a\\n\" 1105 (fermat-test-all 1105)))\n",
    "(display (format \"~a: ~a\\n\" 1729 (fermat-test-all 1729)))\n",
    "(display (format \"~a: ~a\\n\" 2465 (fermat-test-all 2465)))\n",
    "(display (format \"~a: ~a\\n\" 2821 (fermat-test-all 2821)))\n",
    "(display (format \"~a: ~a\\n\" 6601 (fermat-test-all 6601)))\n",
    "\n"
   ]
  },
  {
   "cell_type": "code",
   "execution_count": null,
   "metadata": {
    "vscode": {
     "languageId": "python"
    }
   },
   "outputs": [],
   "source": []
  }
 ],
 "metadata": {
  "kernelspec": {
   "display_name": "Calysto Scheme 3",
   "language": "scheme",
   "name": "calysto_scheme"
  },
  "language_info": {
   "codemirror_mode": {
    "name": "scheme"
   },
   "mimetype": "text/x-scheme",
   "name": "scheme",
   "pygments_lexer": "scheme"
  },
  "orig_nbformat": 4
 },
 "nbformat": 4,
 "nbformat_minor": 2
}
