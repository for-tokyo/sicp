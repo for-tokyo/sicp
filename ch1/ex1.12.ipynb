{
 "cells": [
  {
   "cell_type": "code",
   "execution_count": 1,
   "metadata": {
    "vscode": {
     "languageId": "python"
    }
   },
   "outputs": [],
   "source": [
    ";二項係数を計算\n",
    "(define (C m n)\n",
    "  (cond\n",
    "    ((< n 0) 0)\n",
    "    ((> n m) 0)\n",
    "    ((= m 1) 1)\n",
    "  (else\n",
    "      (+\n",
    "        (C (- m 1) (- n 1))\n",
    "        (C (- m 1) n)\n",
    "      )\n",
    "    )\n",
    "  )\n",
    ")"
   ]
  },
  {
   "cell_type": "code",
   "execution_count": 2,
   "metadata": {
    "vscode": {
     "languageId": "python"
    }
   },
   "outputs": [],
   "source": [
    "; パスカルの三角形を表示\n",
    "(define (display-pascal M)\n",
    "  (define (m-itr m)\n",
    "    (define (n-itr n)\n",
    "      (if (> n m) (display \" \")\n",
    "        (begin\n",
    "          (display (C m n))\n",
    "          (display \" \")\n",
    "          (n-itr (+ n 1)))\n",
    "        ) \n",
    "    )\n",
    "    (if (> m M) (display \"\\n\")\n",
    "      (begin\n",
    "        (n-itr 0)\n",
    "        (display \"\\n\")\n",
    "        (m-itr (+ 1 m))\n",
    "      )\n",
    "    )\n",
    "  )\n",
    "  (m-itr 1)\n",
    ")"
   ]
  },
  {
   "cell_type": "code",
   "execution_count": 5,
   "metadata": {
    "vscode": {
     "languageId": "python"
    }
   },
   "outputs": [
    {
     "data": {
      "text/plain": [
       "6"
      ]
     },
     "execution_count": 5,
     "metadata": {},
     "output_type": "execute_result"
    }
   ],
   "source": [
    "(C 4 2)"
   ]
  },
  {
   "cell_type": "code",
   "execution_count": 3,
   "metadata": {
    "vscode": {
     "languageId": "python"
    }
   },
   "outputs": [
    {
     "name": "stdout",
     "output_type": "stream",
     "text": [
      "1 1  \n",
      "1 2 1  \n",
      "1 3 3 1  \n",
      "1 4 6 4 1  \n",
      "1 5 10 10 5 1  \n",
      "1 6 15 20 15 6 1  \n",
      "1 7 21 35 35 21 7 1  \n",
      "1 8 28 56 70 56 28 8 1  \n",
      "1 9 36 84 126 126 84 36 9 1  \n",
      "1 10 45 120 210 252 210 120 45 10 1  \n",
      "\n"
     ]
    }
   ],
   "source": [
    "(display-pascal 10)"
   ]
  }
 ],
 "metadata": {
  "kernelspec": {
   "display_name": "Calysto Scheme 3",
   "language": "scheme",
   "name": "calysto_scheme"
  },
  "language_info": {
   "codemirror_mode": {
    "name": "scheme"
   },
   "mimetype": "text/x-scheme",
   "name": "scheme",
   "pygments_lexer": "scheme"
  },
  "orig_nbformat": 4
 },
 "nbformat": 4,
 "nbformat_minor": 2
}
