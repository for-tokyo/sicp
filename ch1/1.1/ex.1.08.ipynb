{
 "cells": [
  {
   "cell_type": "code",
   "execution_count": 5,
   "metadata": {
    "vscode": {
     "languageId": "python"
    }
   },
   "outputs": [],
   "source": [
    "(define (square x)\n",
    "  (* x x)\n",
    ")\n",
    "\n",
    "(define (cube x)\n",
    "  (* x x x)\n",
    ")\n",
    "\n",
    "(define (abs x)\n",
    "  (if (>= x 0) x (- x))\n",
    ")\n",
    "\n",
    "(define (improve y x)\n",
    "  (/ (+ (/ x (square y))  (* 2 y)) 3)\n",
    ")\n",
    "\n",
    "(define (good-enough? guess x)\n",
    "  (< (abs (- (cube guess) x)) 0.001)\n",
    ")\n",
    "\n",
    "(define (cube-iterator guess x)\n",
    "  (if (good-enough? guess x)\n",
    "      guess ; then\n",
    "      (sqrt-iterator (improve guess x) x) ; else\n",
    "    )\n",
    ")\n",
    "(define (cube-root x) (sqrt-iterator 1.0 x))"
   ]
  },
  {
   "cell_type": "code",
   "execution_count": 7,
   "metadata": {
    "vscode": {
     "languageId": "python"
    }
   },
   "outputs": [
    {
     "data": {
      "text/plain": [
       "3.0000013684348827"
      ]
     },
     "execution_count": 7,
     "metadata": {},
     "output_type": "execute_result"
    }
   ],
   "source": [
    "(cube (cube-root 3))"
   ]
  },
  {
   "cell_type": "code",
   "execution_count": null,
   "metadata": {
    "vscode": {
     "languageId": "python"
    }
   },
   "outputs": [],
   "source": []
  }
 ],
 "metadata": {
  "kernelspec": {
   "display_name": "Calysto Scheme 3",
   "language": "scheme",
   "name": "calysto_scheme"
  },
  "language_info": {
   "codemirror_mode": {
    "name": "scheme"
   },
   "mimetype": "text/x-scheme",
   "name": "scheme",
   "pygments_lexer": "scheme"
  },
  "orig_nbformat": 4
 },
 "nbformat": 4,
 "nbformat_minor": 2
}
