{
 "cells": [
  {
   "cell_type": "markdown",
   "metadata": {},
   "source": [
    "状態変数$x$を用いて以下の不変量の性質を利用する。\n",
    "$$\n",
    "x + a \\cdot b = (x + a) + a \\cdot (b-1)\n",
    "$$\n"
   ]
  },
  {
   "cell_type": "code",
   "execution_count": 4,
   "metadata": {
    "vscode": {
     "languageId": "python"
    }
   },
   "outputs": [],
   "source": [
    "(define (double x) (+ x x))\n",
    "(define (halve x) (/ x 2))\n",
    "(define (even? x) (= (remainder x 2) 0))\n",
    "\n",
    "(define (*-iter a b x)\n",
    "  (cond \n",
    "    ((= b 0) x)\n",
    "    ((even? b) (*-iter (double a) (halve b) x) )\n",
    "    (else (*-iter  a (- b 1) (+ a x)))\n",
    "  )\n",
    ")\n",
    "\n",
    "(define (* a b)\n",
    "  (*-iter a b 0)\n",
    ")\n"
   ]
  },
  {
   "cell_type": "code",
   "execution_count": 5,
   "metadata": {
    "vscode": {
     "languageId": "python"
    }
   },
   "outputs": [
    {
     "data": {
      "text/plain": [
       "18"
      ]
     },
     "execution_count": 5,
     "metadata": {},
     "output_type": "execute_result"
    }
   ],
   "source": [
    "(* 3 6)"
   ]
  },
  {
   "cell_type": "code",
   "execution_count": null,
   "metadata": {
    "vscode": {
     "languageId": "python"
    }
   },
   "outputs": [],
   "source": [
    "(define (even? n)\n",
    "  (= (remainder n 2) 0)\n",
    ")\n",
    "(define (square x) (* x x))\n",
    "\n",
    "(define (fast-expt-iter b counter a)\n",
    "  (cond\n",
    "    ((= counter 0) a)\n",
    "    ((even? counter) (fast-expt-iter (square b) (/ counter 2) a ) )\n",
    "    (else (fast-expt-iter b (- counter 1) (* a b)  ))\n",
    "  )\n",
    ")\n",
    "\n",
    "(define (fast-expt b n)\n",
    "  (fast-expt-iter b n 1)\n",
    ")"
   ]
  }
 ],
 "metadata": {
  "kernelspec": {
   "display_name": "Calysto Scheme 3",
   "language": "scheme",
   "name": "calysto_scheme"
  },
  "language_info": {
   "codemirror_mode": {
    "name": "scheme"
   },
   "mimetype": "text/x-scheme",
   "name": "scheme",
   "pygments_lexer": "scheme"
  },
  "orig_nbformat": 4
 },
 "nbformat": 4,
 "nbformat_minor": 2
}
