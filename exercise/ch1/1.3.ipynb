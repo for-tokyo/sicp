{
 "cells": [
  {
   "cell_type": "code",
   "execution_count": 2,
   "id": "68fa4cbf",
   "metadata": {},
   "outputs": [],
   "source": [
    "(define (square x) (* x x))\n",
    "(define (sum-of-squares x y) (+ (square x) (square y) ))\n"
   ]
  },
  {
   "cell_type": "code",
   "execution_count": 4,
   "id": "659cfed9",
   "metadata": {},
   "outputs": [
    {
     "data": {
      "text/plain": [
       "25"
      ]
     },
     "execution_count": 4,
     "metadata": {},
     "output_type": "execute_result"
    }
   ],
   "source": [
    "(sum-of-squares 3 4)"
   ]
  },
  {
   "cell_type": "code",
   "execution_count": 9,
   "id": "0099b8c9",
   "metadata": {},
   "outputs": [],
   "source": [
    "(define (square-of-sum-of-bigger2 x y z) \n",
    "  (if (< x  y)\n",
    "        (if (< x  z)  (sum-of-squares y z) (sum-of-squares x y))\n",
    "        (if (< y  z)  (sum-of-squares x z) (sum-of-squares x y))\n",
    "      )\n",
    "  )"
   ]
  },
  {
   "cell_type": "code",
   "execution_count": 10,
   "id": "83bac851",
   "metadata": {},
   "outputs": [
    {
     "data": {
      "text/plain": [
       "13"
      ]
     },
     "execution_count": 10,
     "metadata": {},
     "output_type": "execute_result"
    }
   ],
   "source": [
    "(square-of-sum-of-bigger2 1 2 3)"
   ]
  },
  {
   "cell_type": "code",
   "execution_count": 12,
   "id": "78b33f48",
   "metadata": {},
   "outputs": [
    {
     "data": {
      "text/plain": [
       "13"
      ]
     },
     "execution_count": 12,
     "metadata": {},
     "output_type": "execute_result"
    }
   ],
   "source": [
    "(square-of-sum-of-bigger2 1 3 2)"
   ]
  },
  {
   "cell_type": "code",
   "execution_count": 13,
   "id": "eb4da9fd",
   "metadata": {},
   "outputs": [
    {
     "data": {
      "text/plain": [
       "13"
      ]
     },
     "execution_count": 13,
     "metadata": {},
     "output_type": "execute_result"
    }
   ],
   "source": [
    "(square-of-sum-of-bigger2 2 1 3)"
   ]
  },
  {
   "cell_type": "code",
   "execution_count": 14,
   "id": "e7394f9a",
   "metadata": {},
   "outputs": [
    {
     "data": {
      "text/plain": [
       "13"
      ]
     },
     "execution_count": 14,
     "metadata": {},
     "output_type": "execute_result"
    }
   ],
   "source": [
    "(square-of-sum-of-bigger2 2 3 1)"
   ]
  },
  {
   "cell_type": "code",
   "execution_count": 15,
   "id": "cdde69e4",
   "metadata": {},
   "outputs": [
    {
     "data": {
      "text/plain": [
       "13"
      ]
     },
     "execution_count": 15,
     "metadata": {},
     "output_type": "execute_result"
    }
   ],
   "source": [
    "(square-of-sum-of-bigger2 3 1 2)"
   ]
  },
  {
   "cell_type": "code",
   "execution_count": 16,
   "id": "f98fd8bc",
   "metadata": {},
   "outputs": [
    {
     "data": {
      "text/plain": [
       "13"
      ]
     },
     "execution_count": 16,
     "metadata": {},
     "output_type": "execute_result"
    }
   ],
   "source": [
    "(square-of-sum-of-bigger2 3 2 1)"
   ]
  },
  {
   "cell_type": "code",
   "execution_count": null,
   "id": "685a7c88",
   "metadata": {},
   "outputs": [],
   "source": []
  }
 ],
 "metadata": {
  "kernelspec": {
   "display_name": "Calysto Scheme 3",
   "language": "scheme",
   "name": "calysto_scheme"
  },
  "language_info": {
   "codemirror_mode": {
    "name": "scheme"
   },
   "mimetype": "text/x-scheme",
   "name": "scheme",
   "pygments_lexer": "scheme"
  }
 },
 "nbformat": 4,
 "nbformat_minor": 5
}
