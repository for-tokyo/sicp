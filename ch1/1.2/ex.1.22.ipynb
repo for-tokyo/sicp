{
 "cells": [
  {
   "cell_type": "code",
   "execution_count": 3,
   "metadata": {
    "vscode": {
     "languageId": "python"
    }
   },
   "outputs": [],
   "source": [
    "; pythonのtime.timeをruntimeとして利用する\n",
    "(import \"time\")\n",
    "(define runtime time.time)"
   ]
  },
  {
   "cell_type": "code",
   "execution_count": 4,
   "metadata": {
    "vscode": {
     "languageId": "python"
    }
   },
   "outputs": [],
   "source": [
    "(define (square x) (* x x))\n",
    "(define (smallest-divisor n)\n",
    "  (find-divisor n 2))\n",
    "(define (find-divisor n test-divisor)\n",
    "  (cond ((> (square test-divisor) n) n)\n",
    "        ((divides? test-divisor n) test-divisor)\n",
    "        (else (find-divisor n (+ test-divisor 1)))))\n",
    "(define (divides? a b)\n",
    "  (= (remainder b a) 0))\n",
    "\n",
    "(define (prime? n)\n",
    "  (= n (smallest-divisor n)))\n",
    "\n"
   ]
  },
  {
   "cell_type": "code",
   "execution_count": 5,
   "metadata": {
    "vscode": {
     "languageId": "python"
    }
   },
   "outputs": [],
   "source": [
    "(define (timed-prime-test n)\n",
    "  (newline)\n",
    "  (display n)\n",
    "  (start-prime-test n (runtime)))\n",
    "(define (start-prime-test n start-time)\n",
    "  (if (prime? n)\n",
    "      (report-prime (- (runtime) start-time))))\n",
    "(define (report-prime elapsed-time)\n",
    "  (display \" *** \")\n",
    "  (display elapsed-time))"
   ]
  },
  {
   "cell_type": "code",
   "execution_count": 6,
   "metadata": {
    "vscode": {
     "languageId": "python"
    }
   },
   "outputs": [],
   "source": [
    "(define (odd? x) (= (remainder x 2) 1))\n",
    "(define (search-for-primes from to)\n",
    "  (define (itr x)\n",
    "    (if (odd? x)\n",
    "      (timed-prime-test x)\n",
    "    )\n",
    "    (if (< x to)\n",
    "      (itr (+ x 1))\n",
    "    )\n",
    "  )\n",
    "  (itr from)\n",
    ")"
   ]
  },
  {
   "cell_type": "code",
   "execution_count": 7,
   "metadata": {
    "vscode": {
     "languageId": "python"
    }
   },
   "outputs": [
    {
     "name": "stdout",
     "output_type": "stream",
     "text": [
      "\n",
      "1001\n",
      "1003\n",
      "1005\n",
      "1007\n",
      "1009 *** 0.019899606704711914\n",
      "1011\n",
      "1013 *** 0.017059326171875\n",
      "1015\n",
      "1017\n",
      "1019 *** 0.017624378204345703\n",
      "1021 *** 0.01700878143310547\n",
      "1023\n",
      "1025\n",
      "1027\n",
      "1029\n",
      "1031 *** 0.01700115203857422\n",
      "1033 *** 0.016745805740356445\n",
      "1035\n",
      "1037\n",
      "1039 *** 0.01634359359741211\n",
      "1041\n",
      "1043\n",
      "1045\n",
      "1047\n",
      "1049 *** 0.016533851623535156\n",
      "1051 *** 0.016732215881347656\n",
      "1053\n",
      "1055\n",
      "1057\n",
      "1059\n",
      "1061 *** 0.015137672424316406\n",
      "1063 *** 0.016592741012573242\n",
      "1065\n",
      "1067\n",
      "1069 *** 0.017195463180541992\n",
      "1071\n",
      "1073\n",
      "1075\n",
      "1077\n",
      "1079\n",
      "1081\n",
      "1083\n",
      "1085\n",
      "1087 *** 0.019046545028686523\n",
      "1089\n",
      "1091 *** 0.017147064208984375\n",
      "1093 *** 0.01624917984008789\n",
      "1095\n",
      "1097 *** 0.016592979431152344\n",
      "1099"
     ]
    },
    {
     "data": {
      "text/plain": [
       "#f"
      ]
     },
     "execution_count": 7,
     "metadata": {},
     "output_type": "execute_result"
    }
   ],
   "source": [
    "(search-for-primes 1000 1100)"
   ]
  },
  {
   "cell_type": "code",
   "execution_count": 9,
   "metadata": {
    "vscode": {
     "languageId": "python"
    }
   },
   "outputs": [
    {
     "name": "stdout",
     "output_type": "stream",
     "text": [
      "\n",
      "10001\n",
      "10003\n",
      "10005\n",
      "10007 *** 0.04982185363769531\n",
      "10009 *** 0.04547452926635742\n",
      "10011\n",
      "10013\n",
      "10015\n",
      "10017\n",
      "10019\n",
      "10021\n",
      "10023\n",
      "10025\n",
      "10027\n",
      "10029\n",
      "10031\n",
      "10033\n",
      "10035\n",
      "10037 *** 0.05032229423522949\n",
      "10039 *** 0.049185752868652344\n",
      "10041\n",
      "10043\n",
      "10045\n",
      "10047\n",
      "10049\n",
      "10051\n",
      "10053\n",
      "10055\n",
      "10057\n",
      "10059\n",
      "10061 *** 0.05097341537475586\n",
      "10063\n",
      "10065\n",
      "10067 *** 0.05541038513183594\n",
      "10069 *** 0.05536794662475586\n",
      "10071\n",
      "10073\n",
      "10075\n",
      "10077\n",
      "10079 *** 0.05262017250061035\n",
      "10081\n",
      "10083\n",
      "10085\n",
      "10087\n",
      "10089\n",
      "10091 *** 0.05253434181213379\n",
      "10093 *** 0.05866670608520508\n",
      "10095\n",
      "10097\n",
      "10099 *** 0.0587315559387207"
     ]
    },
    {
     "data": {
      "text/plain": [
       "#f"
      ]
     },
     "execution_count": 9,
     "metadata": {},
     "output_type": "execute_result"
    }
   ],
   "source": [
    "(search-for-primes 10000 10100)"
   ]
  },
  {
   "cell_type": "code",
   "execution_count": 11,
   "metadata": {
    "vscode": {
     "languageId": "python"
    }
   },
   "outputs": [
    {
     "name": "stdout",
     "output_type": "stream",
     "text": [
      "\n",
      "100001\n",
      "100003 *** 0.15672707557678223\n",
      "100005\n",
      "100007\n",
      "100009\n",
      "100011\n",
      "100013\n",
      "100015\n",
      "100017\n",
      "100019 *** 0.14818835258483887\n",
      "100021\n",
      "100023\n",
      "100025\n",
      "100027\n",
      "100029\n",
      "100031\n",
      "100033\n",
      "100035\n",
      "100037\n",
      "100039\n",
      "100041\n",
      "100043 *** 0.1433563232421875\n",
      "100045\n",
      "100047\n",
      "100049 *** 0.15269756317138672\n",
      "100051\n",
      "100053\n",
      "100055\n",
      "100057 *** 0.15217852592468262\n",
      "100059\n",
      "100061\n",
      "100063\n",
      "100065\n",
      "100067\n",
      "100069 *** 0.14535737037658691\n",
      "100071\n",
      "100073\n",
      "100075\n",
      "100077\n",
      "100079\n",
      "100081\n",
      "100083\n",
      "100085\n",
      "100087\n",
      "100089\n",
      "100091\n",
      "100093\n",
      "100095\n",
      "100097\n",
      "100099"
     ]
    },
    {
     "data": {
      "text/plain": [
       "#f"
      ]
     },
     "execution_count": 11,
     "metadata": {},
     "output_type": "execute_result"
    }
   ],
   "source": [
    "(search-for-primes 100000 100100)"
   ]
  },
  {
   "cell_type": "markdown",
   "metadata": {},
   "source": [
    "```\n",
    "1009 *** 0.014002799987792969\n",
    "1013 *** 0.013341426849365234\n",
    "1019 *** 0.014364957809448242\n",
    "\n",
    "\n",
    "10007 *** 0.04450702667236328\n",
    "10009 *** 0.0482325553894043\n",
    "10037 *** 0.0419158935546875\n",
    "\n",
    "100003 *** 0.14098691940307617\n",
    "100019 *** 0.13733649253845215\n",
    "100043 *** 0.1675570011138916\n",
    "```\n",
    "1000→10000、10000→100000は約$\\sqrt{10}=3.16$倍になっている。\n",
    "\n",
    "ステップス数に比例するという考えに矛盾していない。"
   ]
  },
  {
   "cell_type": "markdown",
   "metadata": {},
   "source": []
  }
 ],
 "metadata": {
  "kernelspec": {
   "display_name": "Calysto Scheme 3",
   "language": "scheme",
   "name": "calysto_scheme"
  },
  "language_info": {
   "codemirror_mode": {
    "name": "scheme"
   },
   "mimetype": "text/x-scheme",
   "name": "scheme",
   "pygments_lexer": "scheme"
  },
  "orig_nbformat": 4
 },
 "nbformat": 4,
 "nbformat_minor": 2
}
